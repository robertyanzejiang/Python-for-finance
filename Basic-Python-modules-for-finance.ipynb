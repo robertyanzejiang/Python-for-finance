{
 "cells": [
  {
   "cell_type": "markdown",
   "id": "625f6658-6b47-4b7d-a85d-384636388ab1",
   "metadata": {},
   "source": [
    "# Basic Python modules for finance"
   ]
  },
  {
   "cell_type": "markdown",
   "id": "e1c67d58-8989-4b35-9cf5-5043b9c0913a",
   "metadata": {},
   "source": [
    "-numpy\n",
    "-pandas\n",
    "-matplotlib\n",
    "-math\n",
    "-random\n",
    "-statsmodels"
   ]
  },
  {
   "cell_type": "markdown",
   "id": "35cb4c91-feca-4a0e-b10e-acb46ff2956f",
   "metadata": {},
   "source": [
    "## Arrays(by numpy)"
   ]
  },
  {
   "cell_type": "code",
   "execution_count": 5,
   "id": "00c9562a-9f63-46be-b460-fa4cf1983401",
   "metadata": {},
   "outputs": [],
   "source": [
    "import numpy as np\n",
    "a = np.array([[1,2,3],[4,5,6]])\n",
    "b = np.array([1,2,3])"
   ]
  },
  {
   "cell_type": "code",
   "execution_count": 6,
   "id": "83717510-b42f-48af-be2c-6a94aac34801",
   "metadata": {},
   "outputs": [
    {
     "name": "stdout",
     "output_type": "stream",
     "text": [
      "[[1 2 3]\n",
      " [4 5 6]]\n",
      "[1 2 3]\n",
      "(2, 3)\n",
      "(3,)\n"
     ]
    }
   ],
   "source": [
    "print(a)\n",
    "print(b)\n",
    "\n",
    "print(a.shape)\n",
    "print(b.shape)"
   ]
  },
  {
   "cell_type": "code",
   "execution_count": 7,
   "id": "fbbe0e0e-f189-4c6d-9226-be7a82ac012a",
   "metadata": {},
   "outputs": [
    {
     "data": {
      "text/plain": [
       "1"
      ]
     },
     "execution_count": 7,
     "metadata": {},
     "output_type": "execute_result"
    }
   ],
   "source": [
    "a[0][0]\n"
   ]
  },
  {
   "cell_type": "code",
   "execution_count": 8,
   "id": "495f4a2b-3b33-4ca4-8ce6-5caabfdabc15",
   "metadata": {},
   "outputs": [
    {
     "data": {
      "text/plain": [
       "array([1, 2, 3])"
      ]
     },
     "execution_count": 8,
     "metadata": {},
     "output_type": "execute_result"
    }
   ],
   "source": [
    "a[0]"
   ]
  },
  {
   "cell_type": "code",
   "execution_count": 9,
   "id": "9e39d9fa-993d-43b3-9fc9-b55e38a42021",
   "metadata": {},
   "outputs": [
    {
     "data": {
      "text/plain": [
       "2"
      ]
     },
     "execution_count": 9,
     "metadata": {},
     "output_type": "execute_result"
    }
   ],
   "source": [
    "b[1]"
   ]
  },
  {
   "cell_type": "markdown",
   "id": "8338e0aa-6a85-4e29-8981-2d34910c21ba",
   "metadata": {},
   "source": [
    "## Generating Random Numbers"
   ]
  },
  {
   "cell_type": "code",
   "execution_count": 11,
   "id": "78d81530-6716-40ab-af66-96e8ec4e25d6",
   "metadata": {},
   "outputs": [],
   "source": [
    "import random"
   ]
  },
  {
   "cell_type": "code",
   "execution_count": 12,
   "id": "89e97f66-2a63-48f8-adaf-d07fd7ecb0d5",
   "metadata": {},
   "outputs": [
    {
     "name": "stdout",
     "output_type": "stream",
     "text": [
      "0.8412792919712558\n"
     ]
    }
   ],
   "source": [
    "prob = random.random()\n",
    "print(prob)"
   ]
  },
  {
   "cell_type": "code",
   "execution_count": 13,
   "id": "55364178-2322-49cc-a0ae-ce4893ea7512",
   "metadata": {},
   "outputs": [
    {
     "name": "stdout",
     "output_type": "stream",
     "text": [
      "3\n"
     ]
    }
   ],
   "source": [
    "number = random.randint(1,10)\n",
    "print(number)"
   ]
  },
  {
   "cell_type": "code",
   "execution_count": 14,
   "id": "02ab6c96-8fe8-4e6e-b981-2da889de859a",
   "metadata": {},
   "outputs": [
    {
     "name": "stdout",
     "output_type": "stream",
     "text": [
      "[[9 7 9 5 2]\n",
      " [4 6 2 6 6]\n",
      " [6 9 9 3 3]]\n"
     ]
    }
   ],
   "source": [
    "import numpy as np\n",
    "matrix = np.random.randint(1,10,(3,5))\n",
    "print(matrix)"
   ]
  }
 ],
 "metadata": {
  "kernelspec": {
   "display_name": "Python 3 (ipykernel)",
   "language": "python",
   "name": "python3"
  },
  "language_info": {
   "codemirror_mode": {
    "name": "ipython",
    "version": 3
   },
   "file_extension": ".py",
   "mimetype": "text/x-python",
   "name": "python",
   "nbconvert_exporter": "python",
   "pygments_lexer": "ipython3",
   "version": "3.12.4"
  }
 },
 "nbformat": 4,
 "nbformat_minor": 5
}
