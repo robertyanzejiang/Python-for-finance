{
 "cells": [
  {
   "cell_type": "markdown",
   "id": "e0f20df8-522d-438b-957a-0b4449dec676",
   "metadata": {},
   "source": [
    "# Import Data"
   ]
  },
  {
   "cell_type": "code",
   "execution_count": 2,
   "id": "6c2b0a00-5639-495e-980b-7dceb7eb14aa",
   "metadata": {},
   "outputs": [],
   "source": [
    "import numpy as np\n",
    "import pandas as pd"
   ]
  },
  {
   "cell_type": "markdown",
   "id": "006c3886-c2ec-46a9-a445-790a6ddaf398",
   "metadata": {},
   "source": [
    "## 01 Series (one column)"
   ]
  },
  {
   "cell_type": "code",
   "execution_count": 4,
   "id": "6a8a8c3f-7e45-47ed-87b4-dec5d0b5def5",
   "metadata": {},
   "outputs": [
    {
     "data": {
      "text/plain": [
       "0    0.810855\n",
       "1    0.314075\n",
       "2    0.625167\n",
       "3    0.543191\n",
       "4    0.582925\n",
       "Name: Column 01, dtype: float64"
      ]
     },
     "execution_count": 4,
     "metadata": {},
     "output_type": "execute_result"
    }
   ],
   "source": [
    "ser = pd.Series(np.random.random(5), name = \"Column 01\")\n",
    "ser"
   ]
  },
  {
   "cell_type": "code",
   "execution_count": 5,
   "id": "bd8eee7f-a96d-46e7-850e-8b4d3bb164c1",
   "metadata": {},
   "outputs": [
    {
     "data": {
      "text/plain": [
       "0.31407540231726494"
      ]
     },
     "execution_count": 5,
     "metadata": {},
     "output_type": "execute_result"
    }
   ],
   "source": [
    "ser[1]"
   ]
  },
  {
   "cell_type": "markdown",
   "id": "47314e90-aeea-4f9e-b842-9c79204a3575",
   "metadata": {},
   "source": [
    "## 02 DataFrame (several columns)"
   ]
  },
  {
   "cell_type": "markdown",
   "id": "b080838f-7e89-4118-b983-6ad6e6ab9941",
   "metadata": {},
   "source": [
    "### Part I: Data of a company"
   ]
  },
  {
   "cell_type": "code",
   "execution_count": 8,
   "id": "056c79c2-445d-4726-b6e9-7116fec0c2de",
   "metadata": {},
   "outputs": [
    {
     "name": "stderr",
     "output_type": "stream",
     "text": [
      "[*********************100%***********************]  1 of 1 completed\n"
     ]
    }
   ],
   "source": [
    "# Read the data of PG from Yahoo Finance\n",
    "import yfinance as yf\n",
    "PG = yf.download('PG', start='1995-01-01', end = '2023-12-31')"
   ]
  },
  {
   "cell_type": "code",
   "execution_count": 9,
   "id": "ed8f201f-2dd1-4017-8563-efe44be8091f",
   "metadata": {},
   "outputs": [
    {
     "name": "stdout",
     "output_type": "stream",
     "text": [
      "<class 'pandas.core.frame.DataFrame'>\n",
      "DatetimeIndex: 7300 entries, 1995-01-03 to 2023-12-29\n",
      "Data columns (total 5 columns):\n",
      " #   Column        Non-Null Count  Dtype  \n",
      "---  ------        --------------  -----  \n",
      " 0   (Close, PG)   7300 non-null   float64\n",
      " 1   (High, PG)    7300 non-null   float64\n",
      " 2   (Low, PG)     7300 non-null   float64\n",
      " 3   (Open, PG)    7300 non-null   float64\n",
      " 4   (Volume, PG)  7300 non-null   int64  \n",
      "dtypes: float64(4), int64(1)\n",
      "memory usage: 342.2 KB\n",
      "Price          Close      High       Low      Open   Volume\n",
      "Ticker            PG        PG        PG        PG       PG\n",
      "Date                                                       \n",
      "1995-01-03  7.441166  7.456079  7.366606  7.381518  3318400\n",
      "1995-01-04  7.381520  7.470993  7.306959  7.411345  2218800\n",
      "1995-01-05  7.277133  7.366605  7.262220  7.336781  2319600\n",
      "1995-01-06  7.292041  7.351690  7.232393  7.232393  3438000\n",
      "1995-01-09  7.262219  7.351692  7.247307  7.321868  1795200\n",
      "Price            Close        High         Low        Open   Volume\n",
      "Ticker              PG          PG          PG          PG       PG\n",
      "Date                                                               \n",
      "2023-12-22  141.751053  142.092557  140.785095  140.990001  4412800\n",
      "2023-12-26  142.395035  142.619444  141.448595  141.565676  3634900\n",
      "2023-12-27  142.512115  142.756043  141.829122  142.112071  4569400\n",
      "2023-12-28  142.190109  142.463307  141.516867  142.453555  5023000\n",
      "2023-12-29  142.980453  143.390265  142.190131  142.453577  5300900\n"
     ]
    }
   ],
   "source": [
    "# Data Information\n",
    "PG.info()\n",
    "\n",
    "print(PG.head())\n",
    "# print(PG.head(20))\n",
    "print(PG.tail())\n",
    "# print(PG.tail(20))"
   ]
  },
  {
   "cell_type": "markdown",
   "id": "8889028f-b865-493d-beb4-53c3cb523282",
   "metadata": {},
   "source": [
    "### Part II: Data of several company"
   ]
  },
  {
   "cell_type": "code",
   "execution_count": 11,
   "id": "feebc522-276e-404f-b5a5-92912dc6217e",
   "metadata": {},
   "outputs": [],
   "source": [
    "import yfinance as yf\n",
    "import pandas as pd"
   ]
  },
  {
   "cell_type": "code",
   "execution_count": 12,
   "id": "bad44ca6-90b7-46e9-8a8a-472835d11ecc",
   "metadata": {},
   "outputs": [],
   "source": [
    "# Define stock codes\n",
    "tickers = ['AAPL', 'MSFT', 'TSLA', 'GE']"
   ]
  },
  {
   "cell_type": "code",
   "execution_count": 13,
   "id": "a455f221-d0aa-4821-b64c-fbcd899de39b",
   "metadata": {},
   "outputs": [],
   "source": [
    "# Create Dataset\n",
    "new_data = pd.DataFrame()"
   ]
  },
  {
   "cell_type": "code",
   "execution_count": 14,
   "id": "a4105fb7-e9b5-4dd9-bf47-b2c3241faa25",
   "metadata": {},
   "outputs": [
    {
     "name": "stderr",
     "output_type": "stream",
     "text": [
      "[*********************100%***********************]  1 of 1 completed\n",
      "[*********************100%***********************]  1 of 1 completed\n",
      "[*********************100%***********************]  1 of 1 completed\n",
      "[*********************100%***********************]  1 of 1 completed\n"
     ]
    }
   ],
   "source": [
    "# Collect data for each stock\n",
    "for ticker in tickers:\n",
    "    stock_data = yf.download(ticker, start='1995-01-01', end='2023-12-31')\n",
    "    new_data[ticker] = stock_data['Close']"
   ]
  },
  {
   "cell_type": "code",
   "execution_count": 15,
   "id": "82a52fd3-33b2-443b-85b5-7329e6489f08",
   "metadata": {},
   "outputs": [
    {
     "name": "stdout",
     "output_type": "stream",
     "text": [
      "                AAPL      MSFT  TSLA         GE\n",
      "Date                                           \n",
      "1995-01-03  0.285766  2.319453   NaN  20.200663\n",
      "1995-01-04  0.293213  2.336313   NaN  20.200663\n",
      "1995-01-05  0.289489  2.297776   NaN  20.250179\n",
      "1995-01-06  0.312760  2.336313   NaN  20.151142\n",
      "1995-01-09  0.306826  2.321862   NaN  19.953098\n"
     ]
    }
   ],
   "source": [
    "print(new_data.head())"
   ]
  },
  {
   "cell_type": "code",
   "execution_count": 16,
   "id": "7c0b9101-86db-4010-a8c7-cad16101674e",
   "metadata": {},
   "outputs": [
    {
     "name": "stdout",
     "output_type": "stream",
     "text": [
      "                  AAPL        MSFT        TSLA          GE\n",
      "Date                                                      \n",
      "2023-12-22  192.656174  372.543915  252.539993  100.383560\n",
      "2023-12-26  192.108856  372.623505  256.609985  101.001595\n",
      "2023-12-27  192.208374  372.036713  261.440002  101.643799\n",
      "2023-12-28  192.636276  373.240112  253.179993  101.738937\n",
      "2023-12-29  191.591385  373.995972  248.479996  101.191872\n"
     ]
    }
   ],
   "source": [
    "print(new_data.tail())"
   ]
  },
  {
   "cell_type": "markdown",
   "id": "2c7e77cc-c254-487c-b604-1412b7562209",
   "metadata": {},
   "source": [
    "## 03 Pandas' methods"
   ]
  },
  {
   "cell_type": "markdown",
   "id": "673d5967-0049-410a-9a09-bab2a5091b7a",
   "metadata": {},
   "source": [
    "### 3.1 csv\n",
    "#### Save to csv: .to_csv"
   ]
  },
  {
   "cell_type": "code",
   "execution_count": 19,
   "id": "214e2437-38eb-429c-951d-2ae3b1c71654",
   "metadata": {},
   "outputs": [],
   "source": [
    "new_data.to_csv(\"/Users/jiangyanze/Desktop/new_data.csv\") # the address to save (reminder: end up with '.csv')"
   ]
  },
  {
   "cell_type": "markdown",
   "id": "86a13b0d-cfb6-4dcf-9b56-b8cd5c5035bc",
   "metadata": {},
   "source": [
    "#### Read csv: .read_csv (DataFrame Type)"
   ]
  },
  {
   "cell_type": "code",
   "execution_count": 21,
   "id": "abd79071-895c-4be7-9fc7-f6dfbf4cc735",
   "metadata": {},
   "outputs": [],
   "source": [
    "read_new_data_cvx = pd.read_csv(\"/Users/jiangyanze/Desktop/new_data.csv\")"
   ]
  },
  {
   "cell_type": "code",
   "execution_count": 22,
   "id": "df207990-8e85-406f-9353-6b978d62bf5c",
   "metadata": {},
   "outputs": [
    {
     "data": {
      "text/html": [
       "<div>\n",
       "<style scoped>\n",
       "    .dataframe tbody tr th:only-of-type {\n",
       "        vertical-align: middle;\n",
       "    }\n",
       "\n",
       "    .dataframe tbody tr th {\n",
       "        vertical-align: top;\n",
       "    }\n",
       "\n",
       "    .dataframe thead th {\n",
       "        text-align: right;\n",
       "    }\n",
       "</style>\n",
       "<table border=\"1\" class=\"dataframe\">\n",
       "  <thead>\n",
       "    <tr style=\"text-align: right;\">\n",
       "      <th></th>\n",
       "      <th>Date</th>\n",
       "      <th>AAPL</th>\n",
       "      <th>MSFT</th>\n",
       "      <th>TSLA</th>\n",
       "      <th>GE</th>\n",
       "    </tr>\n",
       "  </thead>\n",
       "  <tbody>\n",
       "    <tr>\n",
       "      <th>0</th>\n",
       "      <td>1995-01-03</td>\n",
       "      <td>0.285766</td>\n",
       "      <td>2.319453</td>\n",
       "      <td>NaN</td>\n",
       "      <td>20.200663</td>\n",
       "    </tr>\n",
       "    <tr>\n",
       "      <th>1</th>\n",
       "      <td>1995-01-04</td>\n",
       "      <td>0.293213</td>\n",
       "      <td>2.336313</td>\n",
       "      <td>NaN</td>\n",
       "      <td>20.200663</td>\n",
       "    </tr>\n",
       "    <tr>\n",
       "      <th>2</th>\n",
       "      <td>1995-01-05</td>\n",
       "      <td>0.289489</td>\n",
       "      <td>2.297776</td>\n",
       "      <td>NaN</td>\n",
       "      <td>20.250179</td>\n",
       "    </tr>\n",
       "    <tr>\n",
       "      <th>3</th>\n",
       "      <td>1995-01-06</td>\n",
       "      <td>0.312760</td>\n",
       "      <td>2.336313</td>\n",
       "      <td>NaN</td>\n",
       "      <td>20.151142</td>\n",
       "    </tr>\n",
       "    <tr>\n",
       "      <th>4</th>\n",
       "      <td>1995-01-09</td>\n",
       "      <td>0.306826</td>\n",
       "      <td>2.321862</td>\n",
       "      <td>NaN</td>\n",
       "      <td>19.953098</td>\n",
       "    </tr>\n",
       "  </tbody>\n",
       "</table>\n",
       "</div>"
      ],
      "text/plain": [
       "         Date      AAPL      MSFT  TSLA         GE\n",
       "0  1995-01-03  0.285766  2.319453   NaN  20.200663\n",
       "1  1995-01-04  0.293213  2.336313   NaN  20.200663\n",
       "2  1995-01-05  0.289489  2.297776   NaN  20.250179\n",
       "3  1995-01-06  0.312760  2.336313   NaN  20.151142\n",
       "4  1995-01-09  0.306826  2.321862   NaN  19.953098"
      ]
     },
     "execution_count": 22,
     "metadata": {},
     "output_type": "execute_result"
    }
   ],
   "source": [
    "read_new_data_cvx.head()"
   ]
  },
  {
   "cell_type": "code",
   "execution_count": 23,
   "id": "ee73563c-8f8c-4c49-9453-73a744f0678b",
   "metadata": {},
   "outputs": [
    {
     "data": {
      "text/html": [
       "<div>\n",
       "<style scoped>\n",
       "    .dataframe tbody tr th:only-of-type {\n",
       "        vertical-align: middle;\n",
       "    }\n",
       "\n",
       "    .dataframe tbody tr th {\n",
       "        vertical-align: top;\n",
       "    }\n",
       "\n",
       "    .dataframe thead th {\n",
       "        text-align: right;\n",
       "    }\n",
       "</style>\n",
       "<table border=\"1\" class=\"dataframe\">\n",
       "  <thead>\n",
       "    <tr style=\"text-align: right;\">\n",
       "      <th></th>\n",
       "      <th>Date</th>\n",
       "      <th>AAPL</th>\n",
       "      <th>MSFT</th>\n",
       "      <th>TSLA</th>\n",
       "      <th>GE</th>\n",
       "    </tr>\n",
       "  </thead>\n",
       "  <tbody>\n",
       "    <tr>\n",
       "      <th>7295</th>\n",
       "      <td>2023-12-22</td>\n",
       "      <td>192.656174</td>\n",
       "      <td>372.543915</td>\n",
       "      <td>252.539993</td>\n",
       "      <td>100.383560</td>\n",
       "    </tr>\n",
       "    <tr>\n",
       "      <th>7296</th>\n",
       "      <td>2023-12-26</td>\n",
       "      <td>192.108856</td>\n",
       "      <td>372.623505</td>\n",
       "      <td>256.609985</td>\n",
       "      <td>101.001595</td>\n",
       "    </tr>\n",
       "    <tr>\n",
       "      <th>7297</th>\n",
       "      <td>2023-12-27</td>\n",
       "      <td>192.208374</td>\n",
       "      <td>372.036713</td>\n",
       "      <td>261.440002</td>\n",
       "      <td>101.643799</td>\n",
       "    </tr>\n",
       "    <tr>\n",
       "      <th>7298</th>\n",
       "      <td>2023-12-28</td>\n",
       "      <td>192.636276</td>\n",
       "      <td>373.240112</td>\n",
       "      <td>253.179993</td>\n",
       "      <td>101.738937</td>\n",
       "    </tr>\n",
       "    <tr>\n",
       "      <th>7299</th>\n",
       "      <td>2023-12-29</td>\n",
       "      <td>191.591385</td>\n",
       "      <td>373.995972</td>\n",
       "      <td>248.479996</td>\n",
       "      <td>101.191872</td>\n",
       "    </tr>\n",
       "  </tbody>\n",
       "</table>\n",
       "</div>"
      ],
      "text/plain": [
       "            Date        AAPL        MSFT        TSLA          GE\n",
       "7295  2023-12-22  192.656174  372.543915  252.539993  100.383560\n",
       "7296  2023-12-26  192.108856  372.623505  256.609985  101.001595\n",
       "7297  2023-12-27  192.208374  372.036713  261.440002  101.643799\n",
       "7298  2023-12-28  192.636276  373.240112  253.179993  101.738937\n",
       "7299  2023-12-29  191.591385  373.995972  248.479996  101.191872"
      ]
     },
     "execution_count": 23,
     "metadata": {},
     "output_type": "execute_result"
    }
   ],
   "source": [
    "read_new_data_cvx.tail()"
   ]
  },
  {
   "cell_type": "markdown",
   "id": "a15d070b-0825-49c3-8bf8-62038d5c4afd",
   "metadata": {},
   "source": [
    "### 3.2 excel\n",
    "#### Save to excel: .to_excel"
   ]
  },
  {
   "cell_type": "code",
   "execution_count": 25,
   "id": "1c0cb7bf-1e31-4a31-973b-e581f412cd4b",
   "metadata": {},
   "outputs": [],
   "source": [
    "new_data.to_excel(\"/Users/jiangyanze/Desktop/new_data.xlsx\") # the address to save (reminder: end up with '.xlsx')"
   ]
  },
  {
   "cell_type": "markdown",
   "id": "f98878fc-3e3f-4413-9415-31c931e20cc3",
   "metadata": {},
   "source": [
    "#### Read excel: .read_excel (DataFrame Type)"
   ]
  },
  {
   "cell_type": "code",
   "execution_count": 27,
   "id": "0adfc804-42ef-4d2c-a0e9-746bc77d084d",
   "metadata": {},
   "outputs": [],
   "source": [
    "read_new_data_excel = pd.read_excel(\"/Users/jiangyanze/Desktop/new_data.xlsx\")"
   ]
  },
  {
   "cell_type": "code",
   "execution_count": 28,
   "id": "ba3ec5a5-4ecf-458b-95ac-f97e74a25534",
   "metadata": {},
   "outputs": [
    {
     "data": {
      "text/html": [
       "<div>\n",
       "<style scoped>\n",
       "    .dataframe tbody tr th:only-of-type {\n",
       "        vertical-align: middle;\n",
       "    }\n",
       "\n",
       "    .dataframe tbody tr th {\n",
       "        vertical-align: top;\n",
       "    }\n",
       "\n",
       "    .dataframe thead th {\n",
       "        text-align: right;\n",
       "    }\n",
       "</style>\n",
       "<table border=\"1\" class=\"dataframe\">\n",
       "  <thead>\n",
       "    <tr style=\"text-align: right;\">\n",
       "      <th></th>\n",
       "      <th>Date</th>\n",
       "      <th>AAPL</th>\n",
       "      <th>MSFT</th>\n",
       "      <th>TSLA</th>\n",
       "      <th>GE</th>\n",
       "    </tr>\n",
       "  </thead>\n",
       "  <tbody>\n",
       "    <tr>\n",
       "      <th>0</th>\n",
       "      <td>1995-01-03</td>\n",
       "      <td>0.285766</td>\n",
       "      <td>2.319453</td>\n",
       "      <td>NaN</td>\n",
       "      <td>20.200663</td>\n",
       "    </tr>\n",
       "    <tr>\n",
       "      <th>1</th>\n",
       "      <td>1995-01-04</td>\n",
       "      <td>0.293213</td>\n",
       "      <td>2.336313</td>\n",
       "      <td>NaN</td>\n",
       "      <td>20.200663</td>\n",
       "    </tr>\n",
       "    <tr>\n",
       "      <th>2</th>\n",
       "      <td>1995-01-05</td>\n",
       "      <td>0.289489</td>\n",
       "      <td>2.297776</td>\n",
       "      <td>NaN</td>\n",
       "      <td>20.250179</td>\n",
       "    </tr>\n",
       "    <tr>\n",
       "      <th>3</th>\n",
       "      <td>1995-01-06</td>\n",
       "      <td>0.312760</td>\n",
       "      <td>2.336313</td>\n",
       "      <td>NaN</td>\n",
       "      <td>20.151142</td>\n",
       "    </tr>\n",
       "    <tr>\n",
       "      <th>4</th>\n",
       "      <td>1995-01-09</td>\n",
       "      <td>0.306826</td>\n",
       "      <td>2.321862</td>\n",
       "      <td>NaN</td>\n",
       "      <td>19.953098</td>\n",
       "    </tr>\n",
       "  </tbody>\n",
       "</table>\n",
       "</div>"
      ],
      "text/plain": [
       "        Date      AAPL      MSFT  TSLA         GE\n",
       "0 1995-01-03  0.285766  2.319453   NaN  20.200663\n",
       "1 1995-01-04  0.293213  2.336313   NaN  20.200663\n",
       "2 1995-01-05  0.289489  2.297776   NaN  20.250179\n",
       "3 1995-01-06  0.312760  2.336313   NaN  20.151142\n",
       "4 1995-01-09  0.306826  2.321862   NaN  19.953098"
      ]
     },
     "execution_count": 28,
     "metadata": {},
     "output_type": "execute_result"
    }
   ],
   "source": [
    "read_new_data_excel.head()"
   ]
  },
  {
   "cell_type": "code",
   "execution_count": 29,
   "id": "9f822ea2-bc46-4859-aade-31484450229a",
   "metadata": {},
   "outputs": [
    {
     "data": {
      "text/html": [
       "<div>\n",
       "<style scoped>\n",
       "    .dataframe tbody tr th:only-of-type {\n",
       "        vertical-align: middle;\n",
       "    }\n",
       "\n",
       "    .dataframe tbody tr th {\n",
       "        vertical-align: top;\n",
       "    }\n",
       "\n",
       "    .dataframe thead th {\n",
       "        text-align: right;\n",
       "    }\n",
       "</style>\n",
       "<table border=\"1\" class=\"dataframe\">\n",
       "  <thead>\n",
       "    <tr style=\"text-align: right;\">\n",
       "      <th></th>\n",
       "      <th>Date</th>\n",
       "      <th>AAPL</th>\n",
       "      <th>MSFT</th>\n",
       "      <th>TSLA</th>\n",
       "      <th>GE</th>\n",
       "    </tr>\n",
       "  </thead>\n",
       "  <tbody>\n",
       "    <tr>\n",
       "      <th>7295</th>\n",
       "      <td>2023-12-22</td>\n",
       "      <td>192.656174</td>\n",
       "      <td>372.543915</td>\n",
       "      <td>252.539993</td>\n",
       "      <td>100.383560</td>\n",
       "    </tr>\n",
       "    <tr>\n",
       "      <th>7296</th>\n",
       "      <td>2023-12-26</td>\n",
       "      <td>192.108856</td>\n",
       "      <td>372.623505</td>\n",
       "      <td>256.609985</td>\n",
       "      <td>101.001595</td>\n",
       "    </tr>\n",
       "    <tr>\n",
       "      <th>7297</th>\n",
       "      <td>2023-12-27</td>\n",
       "      <td>192.208374</td>\n",
       "      <td>372.036713</td>\n",
       "      <td>261.440002</td>\n",
       "      <td>101.643799</td>\n",
       "    </tr>\n",
       "    <tr>\n",
       "      <th>7298</th>\n",
       "      <td>2023-12-28</td>\n",
       "      <td>192.636276</td>\n",
       "      <td>373.240112</td>\n",
       "      <td>253.179993</td>\n",
       "      <td>101.738937</td>\n",
       "    </tr>\n",
       "    <tr>\n",
       "      <th>7299</th>\n",
       "      <td>2023-12-29</td>\n",
       "      <td>191.591385</td>\n",
       "      <td>373.995972</td>\n",
       "      <td>248.479996</td>\n",
       "      <td>101.191872</td>\n",
       "    </tr>\n",
       "  </tbody>\n",
       "</table>\n",
       "</div>"
      ],
      "text/plain": [
       "           Date        AAPL        MSFT        TSLA          GE\n",
       "7295 2023-12-22  192.656174  372.543915  252.539993  100.383560\n",
       "7296 2023-12-26  192.108856  372.623505  256.609985  101.001595\n",
       "7297 2023-12-27  192.208374  372.036713  261.440002  101.643799\n",
       "7298 2023-12-28  192.636276  373.240112  253.179993  101.738937\n",
       "7299 2023-12-29  191.591385  373.995972  248.479996  101.191872"
      ]
     },
     "execution_count": 29,
     "metadata": {},
     "output_type": "execute_result"
    }
   ],
   "source": [
    "read_new_data_excel.tail()"
   ]
  },
  {
   "cell_type": "markdown",
   "id": "0ec54734-f19e-4137-b4a5-f4a51a51b472",
   "metadata": {},
   "source": [
    "### 3.3 Change index"
   ]
  },
  {
   "cell_type": "markdown",
   "id": "5100e93b-5995-4c46-b900-ddc689649dc1",
   "metadata": {},
   "source": [
    "#### parameter: index_col='---'"
   ]
  },
  {
   "cell_type": "code",
   "execution_count": 32,
   "id": "80791ff7-5cfb-4f04-bd14-097b2edd1973",
   "metadata": {},
   "outputs": [],
   "source": [
    "read_new_data_excel_3_3_1= pd.read_excel(\"/Users/jiangyanze/Desktop/new_data.xlsx\",index_col=\"Date\")"
   ]
  },
  {
   "cell_type": "code",
   "execution_count": 33,
   "id": "33cdd2fb-3c0b-4617-ac81-9c2bda623dd6",
   "metadata": {},
   "outputs": [
    {
     "data": {
      "text/html": [
       "<div>\n",
       "<style scoped>\n",
       "    .dataframe tbody tr th:only-of-type {\n",
       "        vertical-align: middle;\n",
       "    }\n",
       "\n",
       "    .dataframe tbody tr th {\n",
       "        vertical-align: top;\n",
       "    }\n",
       "\n",
       "    .dataframe thead th {\n",
       "        text-align: right;\n",
       "    }\n",
       "</style>\n",
       "<table border=\"1\" class=\"dataframe\">\n",
       "  <thead>\n",
       "    <tr style=\"text-align: right;\">\n",
       "      <th></th>\n",
       "      <th>AAPL</th>\n",
       "      <th>MSFT</th>\n",
       "      <th>TSLA</th>\n",
       "      <th>GE</th>\n",
       "    </tr>\n",
       "    <tr>\n",
       "      <th>Date</th>\n",
       "      <th></th>\n",
       "      <th></th>\n",
       "      <th></th>\n",
       "      <th></th>\n",
       "    </tr>\n",
       "  </thead>\n",
       "  <tbody>\n",
       "    <tr>\n",
       "      <th>1995-01-03</th>\n",
       "      <td>0.285766</td>\n",
       "      <td>2.319453</td>\n",
       "      <td>NaN</td>\n",
       "      <td>20.200663</td>\n",
       "    </tr>\n",
       "    <tr>\n",
       "      <th>1995-01-04</th>\n",
       "      <td>0.293213</td>\n",
       "      <td>2.336313</td>\n",
       "      <td>NaN</td>\n",
       "      <td>20.200663</td>\n",
       "    </tr>\n",
       "    <tr>\n",
       "      <th>1995-01-05</th>\n",
       "      <td>0.289489</td>\n",
       "      <td>2.297776</td>\n",
       "      <td>NaN</td>\n",
       "      <td>20.250179</td>\n",
       "    </tr>\n",
       "    <tr>\n",
       "      <th>1995-01-06</th>\n",
       "      <td>0.312760</td>\n",
       "      <td>2.336313</td>\n",
       "      <td>NaN</td>\n",
       "      <td>20.151142</td>\n",
       "    </tr>\n",
       "    <tr>\n",
       "      <th>1995-01-09</th>\n",
       "      <td>0.306826</td>\n",
       "      <td>2.321862</td>\n",
       "      <td>NaN</td>\n",
       "      <td>19.953098</td>\n",
       "    </tr>\n",
       "  </tbody>\n",
       "</table>\n",
       "</div>"
      ],
      "text/plain": [
       "                AAPL      MSFT  TSLA         GE\n",
       "Date                                           \n",
       "1995-01-03  0.285766  2.319453   NaN  20.200663\n",
       "1995-01-04  0.293213  2.336313   NaN  20.200663\n",
       "1995-01-05  0.289489  2.297776   NaN  20.250179\n",
       "1995-01-06  0.312760  2.336313   NaN  20.151142\n",
       "1995-01-09  0.306826  2.321862   NaN  19.953098"
      ]
     },
     "execution_count": 33,
     "metadata": {},
     "output_type": "execute_result"
    }
   ],
   "source": [
    "read_new_data_excel_3_3_1.head()"
   ]
  },
  {
   "cell_type": "markdown",
   "id": "19f61de6-b6b0-4d9d-b270-da9febd41f17",
   "metadata": {},
   "source": [
    "#### function: set_index('---')"
   ]
  },
  {
   "cell_type": "code",
   "execution_count": 35,
   "id": "ca69a57c-a5ab-47d1-ae08-33bff66c0c91",
   "metadata": {},
   "outputs": [
    {
     "data": {
      "text/html": [
       "<div>\n",
       "<style scoped>\n",
       "    .dataframe tbody tr th:only-of-type {\n",
       "        vertical-align: middle;\n",
       "    }\n",
       "\n",
       "    .dataframe tbody tr th {\n",
       "        vertical-align: top;\n",
       "    }\n",
       "\n",
       "    .dataframe thead th {\n",
       "        text-align: right;\n",
       "    }\n",
       "</style>\n",
       "<table border=\"1\" class=\"dataframe\">\n",
       "  <thead>\n",
       "    <tr style=\"text-align: right;\">\n",
       "      <th></th>\n",
       "      <th>AAPL</th>\n",
       "      <th>MSFT</th>\n",
       "      <th>TSLA</th>\n",
       "      <th>GE</th>\n",
       "    </tr>\n",
       "    <tr>\n",
       "      <th>Date</th>\n",
       "      <th></th>\n",
       "      <th></th>\n",
       "      <th></th>\n",
       "      <th></th>\n",
       "    </tr>\n",
       "  </thead>\n",
       "  <tbody>\n",
       "    <tr>\n",
       "      <th>1995-01-03</th>\n",
       "      <td>0.285766</td>\n",
       "      <td>2.319453</td>\n",
       "      <td>NaN</td>\n",
       "      <td>20.200663</td>\n",
       "    </tr>\n",
       "    <tr>\n",
       "      <th>1995-01-04</th>\n",
       "      <td>0.293213</td>\n",
       "      <td>2.336313</td>\n",
       "      <td>NaN</td>\n",
       "      <td>20.200663</td>\n",
       "    </tr>\n",
       "    <tr>\n",
       "      <th>1995-01-05</th>\n",
       "      <td>0.289489</td>\n",
       "      <td>2.297776</td>\n",
       "      <td>NaN</td>\n",
       "      <td>20.250179</td>\n",
       "    </tr>\n",
       "    <tr>\n",
       "      <th>1995-01-06</th>\n",
       "      <td>0.312760</td>\n",
       "      <td>2.336313</td>\n",
       "      <td>NaN</td>\n",
       "      <td>20.151142</td>\n",
       "    </tr>\n",
       "    <tr>\n",
       "      <th>1995-01-09</th>\n",
       "      <td>0.306826</td>\n",
       "      <td>2.321862</td>\n",
       "      <td>NaN</td>\n",
       "      <td>19.953098</td>\n",
       "    </tr>\n",
       "    <tr>\n",
       "      <th>...</th>\n",
       "      <td>...</td>\n",
       "      <td>...</td>\n",
       "      <td>...</td>\n",
       "      <td>...</td>\n",
       "    </tr>\n",
       "    <tr>\n",
       "      <th>2023-12-22</th>\n",
       "      <td>192.656174</td>\n",
       "      <td>372.543915</td>\n",
       "      <td>252.539993</td>\n",
       "      <td>100.383560</td>\n",
       "    </tr>\n",
       "    <tr>\n",
       "      <th>2023-12-26</th>\n",
       "      <td>192.108856</td>\n",
       "      <td>372.623505</td>\n",
       "      <td>256.609985</td>\n",
       "      <td>101.001595</td>\n",
       "    </tr>\n",
       "    <tr>\n",
       "      <th>2023-12-27</th>\n",
       "      <td>192.208374</td>\n",
       "      <td>372.036713</td>\n",
       "      <td>261.440002</td>\n",
       "      <td>101.643799</td>\n",
       "    </tr>\n",
       "    <tr>\n",
       "      <th>2023-12-28</th>\n",
       "      <td>192.636276</td>\n",
       "      <td>373.240112</td>\n",
       "      <td>253.179993</td>\n",
       "      <td>101.738937</td>\n",
       "    </tr>\n",
       "    <tr>\n",
       "      <th>2023-12-29</th>\n",
       "      <td>191.591385</td>\n",
       "      <td>373.995972</td>\n",
       "      <td>248.479996</td>\n",
       "      <td>101.191872</td>\n",
       "    </tr>\n",
       "  </tbody>\n",
       "</table>\n",
       "<p>7300 rows × 4 columns</p>\n",
       "</div>"
      ],
      "text/plain": [
       "                  AAPL        MSFT        TSLA          GE\n",
       "Date                                                      \n",
       "1995-01-03    0.285766    2.319453         NaN   20.200663\n",
       "1995-01-04    0.293213    2.336313         NaN   20.200663\n",
       "1995-01-05    0.289489    2.297776         NaN   20.250179\n",
       "1995-01-06    0.312760    2.336313         NaN   20.151142\n",
       "1995-01-09    0.306826    2.321862         NaN   19.953098\n",
       "...                ...         ...         ...         ...\n",
       "2023-12-22  192.656174  372.543915  252.539993  100.383560\n",
       "2023-12-26  192.108856  372.623505  256.609985  101.001595\n",
       "2023-12-27  192.208374  372.036713  261.440002  101.643799\n",
       "2023-12-28  192.636276  373.240112  253.179993  101.738937\n",
       "2023-12-29  191.591385  373.995972  248.479996  101.191872\n",
       "\n",
       "[7300 rows x 4 columns]"
      ]
     },
     "execution_count": 35,
     "metadata": {},
     "output_type": "execute_result"
    }
   ],
   "source": [
    "read_new_data_excel_3_3_2= pd.read_excel(\"/Users/jiangyanze/Desktop/new_data.xlsx\")\n",
    "read_new_data_excel_3_3_2.set_index(\"Date\")"
   ]
  },
  {
   "cell_type": "code",
   "execution_count": 36,
   "id": "1f196c40-4519-4b77-b9ec-3544cc63dede",
   "metadata": {},
   "outputs": [
    {
     "data": {
      "text/html": [
       "<div>\n",
       "<style scoped>\n",
       "    .dataframe tbody tr th:only-of-type {\n",
       "        vertical-align: middle;\n",
       "    }\n",
       "\n",
       "    .dataframe tbody tr th {\n",
       "        vertical-align: top;\n",
       "    }\n",
       "\n",
       "    .dataframe thead th {\n",
       "        text-align: right;\n",
       "    }\n",
       "</style>\n",
       "<table border=\"1\" class=\"dataframe\">\n",
       "  <thead>\n",
       "    <tr style=\"text-align: right;\">\n",
       "      <th></th>\n",
       "      <th>Date</th>\n",
       "      <th>AAPL</th>\n",
       "      <th>MSFT</th>\n",
       "      <th>TSLA</th>\n",
       "      <th>GE</th>\n",
       "    </tr>\n",
       "  </thead>\n",
       "  <tbody>\n",
       "    <tr>\n",
       "      <th>0</th>\n",
       "      <td>1995-01-03</td>\n",
       "      <td>0.285766</td>\n",
       "      <td>2.319453</td>\n",
       "      <td>NaN</td>\n",
       "      <td>20.200663</td>\n",
       "    </tr>\n",
       "    <tr>\n",
       "      <th>1</th>\n",
       "      <td>1995-01-04</td>\n",
       "      <td>0.293213</td>\n",
       "      <td>2.336313</td>\n",
       "      <td>NaN</td>\n",
       "      <td>20.200663</td>\n",
       "    </tr>\n",
       "    <tr>\n",
       "      <th>2</th>\n",
       "      <td>1995-01-05</td>\n",
       "      <td>0.289489</td>\n",
       "      <td>2.297776</td>\n",
       "      <td>NaN</td>\n",
       "      <td>20.250179</td>\n",
       "    </tr>\n",
       "    <tr>\n",
       "      <th>3</th>\n",
       "      <td>1995-01-06</td>\n",
       "      <td>0.312760</td>\n",
       "      <td>2.336313</td>\n",
       "      <td>NaN</td>\n",
       "      <td>20.151142</td>\n",
       "    </tr>\n",
       "    <tr>\n",
       "      <th>4</th>\n",
       "      <td>1995-01-09</td>\n",
       "      <td>0.306826</td>\n",
       "      <td>2.321862</td>\n",
       "      <td>NaN</td>\n",
       "      <td>19.953098</td>\n",
       "    </tr>\n",
       "  </tbody>\n",
       "</table>\n",
       "</div>"
      ],
      "text/plain": [
       "        Date      AAPL      MSFT  TSLA         GE\n",
       "0 1995-01-03  0.285766  2.319453   NaN  20.200663\n",
       "1 1995-01-04  0.293213  2.336313   NaN  20.200663\n",
       "2 1995-01-05  0.289489  2.297776   NaN  20.250179\n",
       "3 1995-01-06  0.312760  2.336313   NaN  20.151142\n",
       "4 1995-01-09  0.306826  2.321862   NaN  19.953098"
      ]
     },
     "execution_count": 36,
     "metadata": {},
     "output_type": "execute_result"
    }
   ],
   "source": [
    "read_new_data_excel_3_3_2.head()\n",
    "# If you see the data directly, no change!!"
   ]
  },
  {
   "cell_type": "code",
   "execution_count": 37,
   "id": "905f69a0-ba75-4fa2-83d3-fcc96c6a5146",
   "metadata": {},
   "outputs": [],
   "source": [
    "read_new_data_excel_3_3_3 = read_new_data_excel_3_3_2.set_index(\"Date\")"
   ]
  },
  {
   "cell_type": "code",
   "execution_count": 38,
   "id": "8d76d033-7d6d-4a3b-bc91-8ed11a028621",
   "metadata": {},
   "outputs": [
    {
     "data": {
      "text/html": [
       "<div>\n",
       "<style scoped>\n",
       "    .dataframe tbody tr th:only-of-type {\n",
       "        vertical-align: middle;\n",
       "    }\n",
       "\n",
       "    .dataframe tbody tr th {\n",
       "        vertical-align: top;\n",
       "    }\n",
       "\n",
       "    .dataframe thead th {\n",
       "        text-align: right;\n",
       "    }\n",
       "</style>\n",
       "<table border=\"1\" class=\"dataframe\">\n",
       "  <thead>\n",
       "    <tr style=\"text-align: right;\">\n",
       "      <th></th>\n",
       "      <th>AAPL</th>\n",
       "      <th>MSFT</th>\n",
       "      <th>TSLA</th>\n",
       "      <th>GE</th>\n",
       "    </tr>\n",
       "    <tr>\n",
       "      <th>Date</th>\n",
       "      <th></th>\n",
       "      <th></th>\n",
       "      <th></th>\n",
       "      <th></th>\n",
       "    </tr>\n",
       "  </thead>\n",
       "  <tbody>\n",
       "    <tr>\n",
       "      <th>1995-01-03</th>\n",
       "      <td>0.285766</td>\n",
       "      <td>2.319453</td>\n",
       "      <td>NaN</td>\n",
       "      <td>20.200663</td>\n",
       "    </tr>\n",
       "    <tr>\n",
       "      <th>1995-01-04</th>\n",
       "      <td>0.293213</td>\n",
       "      <td>2.336313</td>\n",
       "      <td>NaN</td>\n",
       "      <td>20.200663</td>\n",
       "    </tr>\n",
       "    <tr>\n",
       "      <th>1995-01-05</th>\n",
       "      <td>0.289489</td>\n",
       "      <td>2.297776</td>\n",
       "      <td>NaN</td>\n",
       "      <td>20.250179</td>\n",
       "    </tr>\n",
       "    <tr>\n",
       "      <th>1995-01-06</th>\n",
       "      <td>0.312760</td>\n",
       "      <td>2.336313</td>\n",
       "      <td>NaN</td>\n",
       "      <td>20.151142</td>\n",
       "    </tr>\n",
       "    <tr>\n",
       "      <th>1995-01-09</th>\n",
       "      <td>0.306826</td>\n",
       "      <td>2.321862</td>\n",
       "      <td>NaN</td>\n",
       "      <td>19.953098</td>\n",
       "    </tr>\n",
       "  </tbody>\n",
       "</table>\n",
       "</div>"
      ],
      "text/plain": [
       "                AAPL      MSFT  TSLA         GE\n",
       "Date                                           \n",
       "1995-01-03  0.285766  2.319453   NaN  20.200663\n",
       "1995-01-04  0.293213  2.336313   NaN  20.200663\n",
       "1995-01-05  0.289489  2.297776   NaN  20.250179\n",
       "1995-01-06  0.312760  2.336313   NaN  20.151142\n",
       "1995-01-09  0.306826  2.321862   NaN  19.953098"
      ]
     },
     "execution_count": 38,
     "metadata": {},
     "output_type": "execute_result"
    }
   ],
   "source": [
    "read_new_data_excel_3_3_3.head()"
   ]
  }
 ],
 "metadata": {
  "kernelspec": {
   "display_name": "Python 3 (ipykernel)",
   "language": "python",
   "name": "python3"
  },
  "language_info": {
   "codemirror_mode": {
    "name": "ipython",
    "version": 3
   },
   "file_extension": ".py",
   "mimetype": "text/x-python",
   "name": "python",
   "nbconvert_exporter": "python",
   "pygments_lexer": "ipython3",
   "version": "3.12.4"
  }
 },
 "nbformat": 4,
 "nbformat_minor": 5
}
