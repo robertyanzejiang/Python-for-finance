{
 "cells": [
  {
   "cell_type": "markdown",
   "id": "29928b1d-a4eb-4988-ac44-606f45cd096e",
   "metadata": {},
   "source": [
    "# Calculate risk"
   ]
  },
  {
   "cell_type": "code",
   "execution_count": 2,
   "id": "c13c36d1-9d7b-4ea4-a7dd-9ec533ccff58",
   "metadata": {},
   "outputs": [],
   "source": [
    "import numpy as np\n",
    "import pandas as pd\n",
    "import matplotlib.pyplot as plt\n",
    "\n",
    "import yfinance as yf"
   ]
  },
  {
   "cell_type": "markdown",
   "id": "fd5bc113-ff39-47cb-8d72-fd78bb428551",
   "metadata": {},
   "source": [
    "## 01 Calculate the risk of a security"
   ]
  },
  {
   "cell_type": "code",
   "execution_count": 4,
   "id": "9b899a27-d541-478d-a54b-d2ee8da82484",
   "metadata": {},
   "outputs": [
    {
     "name": "stderr",
     "output_type": "stream",
     "text": [
      "[*********************100%***********************]  1 of 1 completed\n",
      "[*********************100%***********************]  1 of 1 completed\n"
     ]
    }
   ],
   "source": [
    "tickers = ['PG', 'BEI.DE']\n",
    "data_01 = pd.DataFrame()\n",
    "for t in tickers:\n",
    "    data = yf.download(t, start='2014-01-01', end='2023-12-31')\n",
    "    data_01[t] = data['Close'] "
   ]
  },
  {
   "cell_type": "code",
   "execution_count": 5,
   "id": "9f0be9b4-ac6c-466a-848d-939e4180e62b",
   "metadata": {},
   "outputs": [
    {
     "data": {
      "text/html": [
       "<div>\n",
       "<style scoped>\n",
       "    .dataframe tbody tr th:only-of-type {\n",
       "        vertical-align: middle;\n",
       "    }\n",
       "\n",
       "    .dataframe tbody tr th {\n",
       "        vertical-align: top;\n",
       "    }\n",
       "\n",
       "    .dataframe thead th {\n",
       "        text-align: right;\n",
       "    }\n",
       "</style>\n",
       "<table border=\"1\" class=\"dataframe\">\n",
       "  <thead>\n",
       "    <tr style=\"text-align: right;\">\n",
       "      <th></th>\n",
       "      <th>PG</th>\n",
       "      <th>BEI.DE</th>\n",
       "    </tr>\n",
       "    <tr>\n",
       "      <th>Date</th>\n",
       "      <th></th>\n",
       "      <th></th>\n",
       "    </tr>\n",
       "  </thead>\n",
       "  <tbody>\n",
       "    <tr>\n",
       "      <th>2014-01-02</th>\n",
       "      <td>58.940639</td>\n",
       "      <td>67.082314</td>\n",
       "    </tr>\n",
       "    <tr>\n",
       "      <th>2014-01-03</th>\n",
       "      <td>58.874763</td>\n",
       "      <td>67.430939</td>\n",
       "    </tr>\n",
       "    <tr>\n",
       "      <th>2014-01-06</th>\n",
       "      <td>59.013813</td>\n",
       "      <td>67.155693</td>\n",
       "    </tr>\n",
       "    <tr>\n",
       "      <th>2014-01-07</th>\n",
       "      <td>59.584644</td>\n",
       "      <td>67.339188</td>\n",
       "    </tr>\n",
       "    <tr>\n",
       "      <th>2014-01-08</th>\n",
       "      <td>58.721073</td>\n",
       "      <td>66.761208</td>\n",
       "    </tr>\n",
       "    <tr>\n",
       "      <th>...</th>\n",
       "      <td>...</td>\n",
       "      <td>...</td>\n",
       "    </tr>\n",
       "    <tr>\n",
       "      <th>2023-12-22</th>\n",
       "      <td>141.751053</td>\n",
       "      <td>133.905151</td>\n",
       "    </tr>\n",
       "    <tr>\n",
       "      <th>2023-12-26</th>\n",
       "      <td>142.395020</td>\n",
       "      <td>NaN</td>\n",
       "    </tr>\n",
       "    <tr>\n",
       "      <th>2023-12-27</th>\n",
       "      <td>142.512115</td>\n",
       "      <td>133.607376</td>\n",
       "    </tr>\n",
       "    <tr>\n",
       "      <th>2023-12-28</th>\n",
       "      <td>142.190125</td>\n",
       "      <td>134.004425</td>\n",
       "    </tr>\n",
       "    <tr>\n",
       "      <th>2023-12-29</th>\n",
       "      <td>142.980438</td>\n",
       "      <td>134.699265</td>\n",
       "    </tr>\n",
       "  </tbody>\n",
       "</table>\n",
       "<p>2516 rows × 2 columns</p>\n",
       "</div>"
      ],
      "text/plain": [
       "                    PG      BEI.DE\n",
       "Date                              \n",
       "2014-01-02   58.940639   67.082314\n",
       "2014-01-03   58.874763   67.430939\n",
       "2014-01-06   59.013813   67.155693\n",
       "2014-01-07   59.584644   67.339188\n",
       "2014-01-08   58.721073   66.761208\n",
       "...                ...         ...\n",
       "2023-12-22  141.751053  133.905151\n",
       "2023-12-26  142.395020         NaN\n",
       "2023-12-27  142.512115  133.607376\n",
       "2023-12-28  142.190125  134.004425\n",
       "2023-12-29  142.980438  134.699265\n",
       "\n",
       "[2516 rows x 2 columns]"
      ]
     },
     "execution_count": 5,
     "metadata": {},
     "output_type": "execute_result"
    }
   ],
   "source": [
    "data_01"
   ]
  },
  {
   "cell_type": "code",
   "execution_count": 6,
   "id": "338e8241-9b4e-4063-a0eb-f10395d02a48",
   "metadata": {},
   "outputs": [],
   "source": [
    "returns_01 = np.log(data_01 / data_01.shift(1))"
   ]
  },
  {
   "cell_type": "code",
   "execution_count": 7,
   "id": "2ff4de63-32d7-423e-a070-6cc65af912d4",
   "metadata": {},
   "outputs": [
    {
     "data": {
      "text/html": [
       "<div>\n",
       "<style scoped>\n",
       "    .dataframe tbody tr th:only-of-type {\n",
       "        vertical-align: middle;\n",
       "    }\n",
       "\n",
       "    .dataframe tbody tr th {\n",
       "        vertical-align: top;\n",
       "    }\n",
       "\n",
       "    .dataframe thead th {\n",
       "        text-align: right;\n",
       "    }\n",
       "</style>\n",
       "<table border=\"1\" class=\"dataframe\">\n",
       "  <thead>\n",
       "    <tr style=\"text-align: right;\">\n",
       "      <th></th>\n",
       "      <th>PG</th>\n",
       "      <th>BEI.DE</th>\n",
       "    </tr>\n",
       "    <tr>\n",
       "      <th>Date</th>\n",
       "      <th></th>\n",
       "      <th></th>\n",
       "    </tr>\n",
       "  </thead>\n",
       "  <tbody>\n",
       "    <tr>\n",
       "      <th>2014-01-02</th>\n",
       "      <td>NaN</td>\n",
       "      <td>NaN</td>\n",
       "    </tr>\n",
       "    <tr>\n",
       "      <th>2014-01-03</th>\n",
       "      <td>-0.001118</td>\n",
       "      <td>0.005184</td>\n",
       "    </tr>\n",
       "    <tr>\n",
       "      <th>2014-01-06</th>\n",
       "      <td>0.002359</td>\n",
       "      <td>-0.004090</td>\n",
       "    </tr>\n",
       "    <tr>\n",
       "      <th>2014-01-07</th>\n",
       "      <td>0.009626</td>\n",
       "      <td>0.002729</td>\n",
       "    </tr>\n",
       "    <tr>\n",
       "      <th>2014-01-08</th>\n",
       "      <td>-0.014599</td>\n",
       "      <td>-0.008620</td>\n",
       "    </tr>\n",
       "    <tr>\n",
       "      <th>...</th>\n",
       "      <td>...</td>\n",
       "      <td>...</td>\n",
       "    </tr>\n",
       "    <tr>\n",
       "      <th>2023-12-22</th>\n",
       "      <td>0.007046</td>\n",
       "      <td>0.004085</td>\n",
       "    </tr>\n",
       "    <tr>\n",
       "      <th>2023-12-26</th>\n",
       "      <td>0.004533</td>\n",
       "      <td>NaN</td>\n",
       "    </tr>\n",
       "    <tr>\n",
       "      <th>2023-12-27</th>\n",
       "      <td>0.000822</td>\n",
       "      <td>NaN</td>\n",
       "    </tr>\n",
       "    <tr>\n",
       "      <th>2023-12-28</th>\n",
       "      <td>-0.002262</td>\n",
       "      <td>0.002967</td>\n",
       "    </tr>\n",
       "    <tr>\n",
       "      <th>2023-12-29</th>\n",
       "      <td>0.005543</td>\n",
       "      <td>0.005172</td>\n",
       "    </tr>\n",
       "  </tbody>\n",
       "</table>\n",
       "<p>2516 rows × 2 columns</p>\n",
       "</div>"
      ],
      "text/plain": [
       "                  PG    BEI.DE\n",
       "Date                          \n",
       "2014-01-02       NaN       NaN\n",
       "2014-01-03 -0.001118  0.005184\n",
       "2014-01-06  0.002359 -0.004090\n",
       "2014-01-07  0.009626  0.002729\n",
       "2014-01-08 -0.014599 -0.008620\n",
       "...              ...       ...\n",
       "2023-12-22  0.007046  0.004085\n",
       "2023-12-26  0.004533       NaN\n",
       "2023-12-27  0.000822       NaN\n",
       "2023-12-28 -0.002262  0.002967\n",
       "2023-12-29  0.005543  0.005172\n",
       "\n",
       "[2516 rows x 2 columns]"
      ]
     },
     "execution_count": 7,
     "metadata": {},
     "output_type": "execute_result"
    }
   ],
   "source": [
    "returns_01"
   ]
  },
  {
   "cell_type": "markdown",
   "id": "5513f941-cfe5-4df4-ae14-a4f619550efc",
   "metadata": {},
   "source": [
    "### PG"
   ]
  },
  {
   "cell_type": "code",
   "execution_count": 9,
   "id": "49adeecf-5ed7-40c7-8ad1-1da20d01d91a",
   "metadata": {},
   "outputs": [
    {
     "name": "stdout",
     "output_type": "stream",
     "text": [
      "annual rate of return of PG: 0.08808916482383984\n",
      "annual rate of risk   of PG: 0.18143002715135548\n"
     ]
    }
   ],
   "source": [
    "print(f\"annual rate of return of PG: {returns_01['PG'].mean() * 250}\")\n",
    "print(f\"annual rate of risk   of PG: {returns_01['PG'].std() * (250 ** 0.5)}\")"
   ]
  },
  {
   "cell_type": "markdown",
   "id": "bd72b9d7-7d91-445b-8a37-f5a570e1c8a1",
   "metadata": {},
   "source": [
    "### Beiersdorf"
   ]
  },
  {
   "cell_type": "code",
   "execution_count": 11,
   "id": "35ebb5e3-63de-4ba0-8703-f4fdf4d3c4c4",
   "metadata": {},
   "outputs": [
    {
     "name": "stdout",
     "output_type": "stream",
     "text": [
      "annual rate of return of Beiersdorf: 0.06985614427116624\n",
      "annual rate of risk   of Beiersdorf: 0.19777875323598434\n"
     ]
    }
   ],
   "source": [
    "print(f\"annual rate of return of Beiersdorf: {returns_01['BEI.DE'].mean() * 250}\")\n",
    "print(f\"annual rate of risk   of Beiersdorf: {returns_01['BEI.DE'].std() * (250 ** 0.5)}\")"
   ]
  },
  {
   "cell_type": "code",
   "execution_count": 12,
   "id": "e7b0a78d-b984-4444-8f27-9a909cd10355",
   "metadata": {},
   "outputs": [
    {
     "data": {
      "text/plain": [
       "PG        0.088089\n",
       "BEI.DE    0.069856\n",
       "dtype: float64"
      ]
     },
     "execution_count": 12,
     "metadata": {},
     "output_type": "execute_result"
    }
   ],
   "source": [
    "# the following 2 blocks treat PG and BEI.DE together\n",
    "returns_01[['PG', 'BEI.DE']].mean() * 250 # remember: double bracket [[...]]"
   ]
  },
  {
   "cell_type": "code",
   "execution_count": 13,
   "id": "5eea88d4-300d-4ba3-a53b-90c07f82171b",
   "metadata": {},
   "outputs": [
    {
     "data": {
      "text/plain": [
       "PG        0.181430\n",
       "BEI.DE    0.197779\n",
       "dtype: float64"
      ]
     },
     "execution_count": 13,
     "metadata": {},
     "output_type": "execute_result"
    }
   ],
   "source": [
    "returns_01[['PG', 'BEI.DE']].std() * (250 ** 0.5)"
   ]
  },
  {
   "cell_type": "markdown",
   "id": "6151ec6d-ec3e-4e08-8816-9c29f7431cb8",
   "metadata": {},
   "source": [
    "## 02 Calculate the risk of a portfolio\n",
    "We still use the data of PG and BEI.DE with equal weight."
   ]
  },
  {
   "cell_type": "code",
   "execution_count": 15,
   "id": "3ba1bf46-562c-46e0-9f04-364b93c6465a",
   "metadata": {},
   "outputs": [],
   "source": [
    "weights = np.array([0.5, 0.5]) # define the weight"
   ]
  },
  {
   "cell_type": "markdown",
   "id": "5f586c51-c7a9-4125-bc39-741bdb2d50ef",
   "metadata": {},
   "source": [
    "To calculate the corr of PG and BEI.DE"
   ]
  },
  {
   "cell_type": "code",
   "execution_count": 17,
   "id": "55cad3b3-fd42-4753-a85a-8c49ac04282e",
   "metadata": {},
   "outputs": [
    {
     "data": {
      "text/plain": [
       "0.02293114641070045"
      ]
     },
     "execution_count": 17,
     "metadata": {},
     "output_type": "execute_result"
    }
   ],
   "source": [
    "portfolio_var = np.dot(weights.T, np.dot(returns_01.cov() * 250, weights))\n",
    "portfolio_var"
   ]
  },
  {
   "cell_type": "markdown",
   "id": "bfbb4356-38d6-4b8a-b9be-c0f952879c0d",
   "metadata": {},
   "source": [
    "To calculate the volatility of the portfolio"
   ]
  },
  {
   "cell_type": "code",
   "execution_count": 19,
   "id": "961d459d-2498-4080-841f-4cd402e7a167",
   "metadata": {},
   "outputs": [
    {
     "name": "stdout",
     "output_type": "stream",
     "text": [
      "15.143 %\n"
     ]
    }
   ],
   "source": [
    "portfolio_vol = np.dot(weights.T, np.dot(returns_01.cov() * 250, weights)) ** 0.5\n",
    "print(str(round(portfolio_vol, 5)*100)+\" %\")"
   ]
  },
  {
   "cell_type": "markdown",
   "id": "8fd3cfa0-f607-4a48-8a73-1f368988dc9f",
   "metadata": {},
   "source": [
    "Diversifiable Risk"
   ]
  },
  {
   "cell_type": "code",
   "execution_count": 21,
   "id": "13996548-6d52-4b96-b3ce-0c397559b290",
   "metadata": {},
   "outputs": [],
   "source": [
    "PG_var_year = returns_01['PG'].var() * 250\n",
    "BEI_var_year = returns_01['BEI.DE'].var() * 250\n",
    "diversiable_risk = portfolio_var - weights[0]**2*PG_var_year - weights[1]**2*BEI_var_year"
   ]
  },
  {
   "cell_type": "code",
   "execution_count": 22,
   "id": "1b5dbd65-744d-47b6-b275-8c0a021d1a18",
   "metadata": {},
   "outputs": [
    {
     "data": {
      "text/plain": [
       "0.004922823914769954"
      ]
     },
     "execution_count": 22,
     "metadata": {},
     "output_type": "execute_result"
    }
   ],
   "source": [
    "diversiable_risk"
   ]
  },
  {
   "cell_type": "markdown",
   "id": "aecd131f-b345-47d0-baf5-a1d5319602fa",
   "metadata": {},
   "source": [
    "Non-diversifiable Risk"
   ]
  },
  {
   "cell_type": "code",
   "execution_count": 24,
   "id": "45fb05b4-a618-47f6-b4f5-4028d62efe0b",
   "metadata": {},
   "outputs": [
    {
     "data": {
      "text/plain": [
       "0.018008322495930495"
      ]
     },
     "execution_count": 24,
     "metadata": {},
     "output_type": "execute_result"
    }
   ],
   "source": [
    "nondiversiable_risk = weights[0]**2*PG_var_year + weights[1]**2*BEI_var_year\n",
    "nondiversiable_risk"
   ]
  },
  {
   "cell_type": "code",
   "execution_count": 25,
   "id": "f1178ead-d75d-49b4-b256-e59c1bd5eed9",
   "metadata": {},
   "outputs": [
    {
     "data": {
      "text/plain": [
       "0.018008322495930495"
      ]
     },
     "execution_count": 25,
     "metadata": {},
     "output_type": "execute_result"
    }
   ],
   "source": [
    "nondiversiable_risk = portfolio_var - diversiable_risk\n",
    "nondiversiable_risk"
   ]
  }
 ],
 "metadata": {
  "kernelspec": {
   "display_name": "Python 3 (ipykernel)",
   "language": "python",
   "name": "python3"
  },
  "language_info": {
   "codemirror_mode": {
    "name": "ipython",
    "version": 3
   },
   "file_extension": ".py",
   "mimetype": "text/x-python",
   "name": "python",
   "nbconvert_exporter": "python",
   "pygments_lexer": "ipython3",
   "version": "3.12.4"
  }
 },
 "nbformat": 4,
 "nbformat_minor": 5
}
