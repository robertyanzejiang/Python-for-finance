{
 "cells": [
  {
   "cell_type": "markdown",
   "id": "c700fa72-416a-4278-bbcb-426e85afd3a0",
   "metadata": {},
   "source": [
    "# CAPM"
   ]
  },
  {
   "cell_type": "code",
   "execution_count": 3,
   "id": "d3ee1b66-f666-41ec-8a86-77b92a05a23e",
   "metadata": {},
   "outputs": [],
   "source": [
    "import pandas as pd\n",
    "import numpy as np\n",
    "import yfinance as yf"
   ]
  },
  {
   "cell_type": "code",
   "execution_count": 4,
   "id": "f4f6bf98-1d1d-4969-bdb8-8b0c24d629aa",
   "metadata": {},
   "outputs": [
    {
     "name": "stderr",
     "output_type": "stream",
     "text": [
      "[*********************100%***********************]  1 of 1 completed\n",
      "[*********************100%***********************]  1 of 1 completed\n"
     ]
    }
   ],
   "source": [
    "assets = [\"PG\", \"^GSPC\"]\n",
    "data = pd.DataFrame()\n",
    "for stock in assets:\n",
    "    data[stock] = yf.download(stock, start = \"2015-01-01\", end = \"2024-12-31\")[\"Close\"]"
   ]
  },
  {
   "cell_type": "code",
   "execution_count": 5,
   "id": "4d5fe85f-4ac4-4235-86fe-ca46de558950",
   "metadata": {},
   "outputs": [
    {
     "data": {
      "text/html": [
       "<div>\n",
       "<style scoped>\n",
       "    .dataframe tbody tr th:only-of-type {\n",
       "        vertical-align: middle;\n",
       "    }\n",
       "\n",
       "    .dataframe tbody tr th {\n",
       "        vertical-align: top;\n",
       "    }\n",
       "\n",
       "    .dataframe thead th {\n",
       "        text-align: right;\n",
       "    }\n",
       "</style>\n",
       "<table border=\"1\" class=\"dataframe\">\n",
       "  <thead>\n",
       "    <tr style=\"text-align: right;\">\n",
       "      <th></th>\n",
       "      <th>PG</th>\n",
       "      <th>^GSPC</th>\n",
       "    </tr>\n",
       "    <tr>\n",
       "      <th>Date</th>\n",
       "      <th></th>\n",
       "      <th></th>\n",
       "    </tr>\n",
       "  </thead>\n",
       "  <tbody>\n",
       "    <tr>\n",
       "      <th>2015-01-02</th>\n",
       "      <td>67.861969</td>\n",
       "      <td>2058.199951</td>\n",
       "    </tr>\n",
       "    <tr>\n",
       "      <th>2015-01-05</th>\n",
       "      <td>67.539307</td>\n",
       "      <td>2020.579956</td>\n",
       "    </tr>\n",
       "    <tr>\n",
       "      <th>2015-01-06</th>\n",
       "      <td>67.231644</td>\n",
       "      <td>2002.609985</td>\n",
       "    </tr>\n",
       "    <tr>\n",
       "      <th>2015-01-07</th>\n",
       "      <td>67.584320</td>\n",
       "      <td>2025.900024</td>\n",
       "    </tr>\n",
       "    <tr>\n",
       "      <th>2015-01-08</th>\n",
       "      <td>68.357185</td>\n",
       "      <td>2062.139893</td>\n",
       "    </tr>\n",
       "    <tr>\n",
       "      <th>...</th>\n",
       "      <td>...</td>\n",
       "      <td>...</td>\n",
       "    </tr>\n",
       "    <tr>\n",
       "      <th>2024-12-23</th>\n",
       "      <td>167.091125</td>\n",
       "      <td>5974.069824</td>\n",
       "    </tr>\n",
       "    <tr>\n",
       "      <th>2024-12-24</th>\n",
       "      <td>167.916092</td>\n",
       "      <td>6040.040039</td>\n",
       "    </tr>\n",
       "    <tr>\n",
       "      <th>2024-12-26</th>\n",
       "      <td>169.128708</td>\n",
       "      <td>6037.589844</td>\n",
       "    </tr>\n",
       "    <tr>\n",
       "      <th>2024-12-27</th>\n",
       "      <td>168.502518</td>\n",
       "      <td>5970.839844</td>\n",
       "    </tr>\n",
       "    <tr>\n",
       "      <th>2024-12-30</th>\n",
       "      <td>166.077301</td>\n",
       "      <td>5906.939941</td>\n",
       "    </tr>\n",
       "  </tbody>\n",
       "</table>\n",
       "<p>2515 rows × 2 columns</p>\n",
       "</div>"
      ],
      "text/plain": [
       "                    PG        ^GSPC\n",
       "Date                               \n",
       "2015-01-02   67.861969  2058.199951\n",
       "2015-01-05   67.539307  2020.579956\n",
       "2015-01-06   67.231644  2002.609985\n",
       "2015-01-07   67.584320  2025.900024\n",
       "2015-01-08   68.357185  2062.139893\n",
       "...                ...          ...\n",
       "2024-12-23  167.091125  5974.069824\n",
       "2024-12-24  167.916092  6040.040039\n",
       "2024-12-26  169.128708  6037.589844\n",
       "2024-12-27  168.502518  5970.839844\n",
       "2024-12-30  166.077301  5906.939941\n",
       "\n",
       "[2515 rows x 2 columns]"
      ]
     },
     "execution_count": 5,
     "metadata": {},
     "output_type": "execute_result"
    }
   ],
   "source": [
    "data"
   ]
  },
  {
   "cell_type": "code",
   "execution_count": 6,
   "id": "7b9f9e0a-699e-4976-99c3-feb9ba8bfcb3",
   "metadata": {},
   "outputs": [
    {
     "data": {
      "text/html": [
       "<div>\n",
       "<style scoped>\n",
       "    .dataframe tbody tr th:only-of-type {\n",
       "        vertical-align: middle;\n",
       "    }\n",
       "\n",
       "    .dataframe tbody tr th {\n",
       "        vertical-align: top;\n",
       "    }\n",
       "\n",
       "    .dataframe thead th {\n",
       "        text-align: right;\n",
       "    }\n",
       "</style>\n",
       "<table border=\"1\" class=\"dataframe\">\n",
       "  <thead>\n",
       "    <tr style=\"text-align: right;\">\n",
       "      <th></th>\n",
       "      <th>PG</th>\n",
       "      <th>^GSPC</th>\n",
       "    </tr>\n",
       "  </thead>\n",
       "  <tbody>\n",
       "    <tr>\n",
       "      <th>PG</th>\n",
       "      <td>0.033807</td>\n",
       "      <td>0.017442</td>\n",
       "    </tr>\n",
       "    <tr>\n",
       "      <th>^GSPC</th>\n",
       "      <td>0.017442</td>\n",
       "      <td>0.031762</td>\n",
       "    </tr>\n",
       "  </tbody>\n",
       "</table>\n",
       "</div>"
      ],
      "text/plain": [
       "             PG     ^GSPC\n",
       "PG     0.033807  0.017442\n",
       "^GSPC  0.017442  0.031762"
      ]
     },
     "execution_count": 6,
     "metadata": {},
     "output_type": "execute_result"
    }
   ],
   "source": [
    "returns = np.log(data/data.shift(1))\n",
    "cov = returns.cov()*250\n",
    "cov"
   ]
  },
  {
   "cell_type": "markdown",
   "id": "2c5a912b-3a37-4fc0-9b12-e35e16f72e6f",
   "metadata": {},
   "source": [
    "## Calculate Belta"
   ]
  },
  {
   "cell_type": "markdown",
   "id": "d0d8f069-5489-4158-a038-30924922cfa4",
   "metadata": {},
   "source": [
    "#### Use S&P 500 index to represent market"
   ]
  },
  {
   "cell_type": "code",
   "execution_count": 9,
   "id": "c1df12d6-faa0-4bf3-b0a4-470411a63d8d",
   "metadata": {},
   "outputs": [
    {
     "data": {
      "text/plain": [
       "0.031762094611185704"
      ]
     },
     "execution_count": 9,
     "metadata": {},
     "output_type": "execute_result"
    }
   ],
   "source": [
    "market_var = returns[\"^GSPC\"].var()*250\n",
    "market_var"
   ]
  },
  {
   "cell_type": "markdown",
   "id": "b4807da1-2572-4c8a-b302-05b0d424e9bb",
   "metadata": {},
   "source": [
    "### Belta of PG: \n",
    "#### cov(PG, mkt)/var(mkt)"
   ]
  },
  {
   "cell_type": "code",
   "execution_count": 11,
   "id": "d56c5f7e-af3f-4964-ae9d-61784a901c27",
   "metadata": {},
   "outputs": [
    {
     "data": {
      "text/plain": [
       "0.549130595745393"
      ]
     },
     "execution_count": 11,
     "metadata": {},
     "output_type": "execute_result"
    }
   ],
   "source": [
    "belta_PG = cov.iloc[0,1]/market_var\n",
    "belta_PG"
   ]
  },
  {
   "cell_type": "markdown",
   "id": "898cd91e-c446-4b46-8453-168e09acb8ea",
   "metadata": {},
   "source": [
    "## Calculate expected return of P&G: \n",
    "#### return_(risk_free)+belta_PG*(return_(expected_market)-return_(risk_free))"
   ]
  },
  {
   "cell_type": "code",
   "execution_count": 13,
   "id": "e8b55e88-c305-4c28-acb5-2118a3cb3a8e",
   "metadata": {},
   "outputs": [],
   "source": [
    "### Imagine return_(risk_free) to be 0.025 and risk premium to be 5%"
   ]
  },
  {
   "cell_type": "code",
   "execution_count": 14,
   "id": "c78def5b-a669-48b5-8670-ca0a114022d9",
   "metadata": {},
   "outputs": [
    {
     "data": {
      "text/plain": [
       "0.052456529787269654"
      ]
     },
     "execution_count": 14,
     "metadata": {},
     "output_type": "execute_result"
    }
   ],
   "source": [
    "PG_er = 0.025 + belta_PG*0.05\n",
    "PG_er"
   ]
  },
  {
   "cell_type": "markdown",
   "id": "508934d9-671b-4a29-8129-01477f16bbce",
   "metadata": {},
   "source": [
    "## Calculate Sharpe ratio:\n",
    "#### (return_(expected_PG)-return_(risk_free))/var(PG)"
   ]
  },
  {
   "cell_type": "code",
   "execution_count": 16,
   "id": "773726c9-be14-4156-8152-f3d032a1b389",
   "metadata": {},
   "outputs": [
    {
     "data": {
      "text/plain": [
       "0.1493281510217736"
      ]
     },
     "execution_count": 16,
     "metadata": {},
     "output_type": "execute_result"
    }
   ],
   "source": [
    "sharpe_PG = (PG_er-0.025)/(returns[\"PG\"].std()*250**0.5)\n",
    "sharpe_PG"
   ]
  },
  {
   "cell_type": "code",
   "execution_count": null,
   "id": "e1c48e8e-3657-472e-a2b7-3f2943de9bc5",
   "metadata": {},
   "outputs": [],
   "source": []
  }
 ],
 "metadata": {
  "kernelspec": {
   "display_name": "Python 3 (ipykernel)",
   "language": "python",
   "name": "python3"
  },
  "language_info": {
   "codemirror_mode": {
    "name": "ipython",
    "version": 3
   },
   "file_extension": ".py",
   "mimetype": "text/x-python",
   "name": "python",
   "nbconvert_exporter": "python",
   "pygments_lexer": "ipython3",
   "version": "3.12.4"
  }
 },
 "nbformat": 4,
 "nbformat_minor": 5
}
